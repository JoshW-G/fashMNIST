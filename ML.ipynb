{
 "cells": [
  {
   "cell_type": "code",
   "execution_count": 2,
   "metadata": {},
   "outputs": [],
   "source": [
    "%matplotlib notebook\n",
    "import numpy as np\n",
    "from scipy import misc\n",
    "import matplotlib.pyplot as plt\n",
    "from sklearn import metrics\n",
    "from sklearn.preprocessing import Binarizer\n",
    "from sklearn.naive_bayes import CategoricalNB, ComplementNB,BernoulliNB,GaussianNB,MultinomialNB\n",
    "from sklearn.svm import SVC\n",
    "from sklearn.ensemble import RandomForestClassifier\n",
    "\n",
    "\n",
    "import pandas as pd \n",
    "import matplotlib.image as matimage\n",
    "\n",
    "train = pd.read_csv('fashion-mnist/train.csv')\n",
    "test = pd.read_csv('fashion-mnist/test.csv')\n",
    "\n",
    "X_train = np.array(train.iloc[:, 1:])\n",
    "y_train = np.array(train.iloc[:, 0]) # target values of training dataset\n",
    "X_test =  np.array(test.iloc[:, 1:])\n",
    "y_test = np.array(test.iloc[:, 0]) # target values of testing dataset\n",
    "\n",
    "#print(\"\\n---- ----\\n\")\n",
    "\n",
    "label_dictionnary = {0:'T-shirt/top', 1:'Trouser', 2:'Pullover', \n",
    "3:'Dress', 4:'Coat', 5:'Sandal', 6:'Shirt', \n",
    "7:'Sneaker', 8:'Bag', 9:'Ankle boot' }\n",
    "def true_label(x):\n",
    "    return label_dictionnary[x]\n",
    "def plotPredict(pred):\n",
    "    n_row = 1\n",
    "    n_col = 10\n",
    "    plt.figure(figsize=(10,8))\n",
    "    for i in list(range(n_row*n_col)):\n",
    "        plt.subplot(n_row, n_col, i+1)\n",
    "        plt.imshow(X_test[i,:].reshape(28,28))\n",
    "        title_text = ('PD: %s\\nTR: %s' % (true_label(pred[i]), true_label(y_test[i])) )\n",
    "        plt.title(title_text, size=6.5)\n",
    "\n",
    "    plt.show()\n",
    "\n",
    "\n"
   ]
  },
  {
   "cell_type": "code",
   "execution_count": 3,
   "metadata": {},
   "outputs": [
    {
     "name": "stdout",
     "output_type": "stream",
     "text": [
      "\n",
      "----Data Binarized----\n",
      "\n"
     ]
    }
   ],
   "source": [
    "binarizer = Binarizer()\n",
    "train_binary = binarizer.fit_transform(X_train) \n",
    "test_binary = binarizer.fit_transform(X_test)\n",
    "print(\"\\n----Data Binarized----\\n\")"
   ]
  },
  {
   "cell_type": "code",
   "execution_count": null,
   "metadata": {
    "scrolled": true
   },
   "outputs": [],
   "source": [
    "for i in range(10):\n",
    "    n=(i+1)*10\n",
    "    clf = RandomForestClassifier(n_estimators=n)\n",
    "    clf.fit(X_train, y_train)\n",
    "    clfpredict = clf.predict(X_test)\n",
    "    print(\"Random Forest n estimators: {} \".format(n))\n",
    "    print(metrics.classification_report(y_test, clfpredict))\n",
    "    accuracy = metrics.accuracy_score(y_test, clfpredict)\n",
    "    average_accuracy = np.mean(y_test == clfpredict) * 100\n",
    "    print(\"The average_accuracy is {0:.1f}%\".format(average_accuracy))"
   ]
  },
  {
   "cell_type": "code",
   "execution_count": null,
   "metadata": {},
   "outputs": [],
   "source": [
    "# CategoricalNB, ComplementNB,BernoulliNB,GaussianNB,MultinomialNB\n",
    "nbdict={0:CategoricalNB(),1:ComplementNB(), 2:BernoulliNB(),3:MultinomialNB(), 4:GaussianNB()}\n",
    "for i in range(4):\n",
    "    for j in range(10):\n",
    "        #j+1\n",
    "        print(\"\\n----Learning {}----\\n\".format(nbdict[i]))\n",
    "        cNB = nbdict[i]\n",
    "        cNB.set_params(alpha=j)\n",
    "        cNB.fit(train_binary, y_train)\n",
    "        print(\"\\n----Learnt----\\n\")\n",
    "        cNB_predict = cNB.predict(test_binary)\n",
    "        print(\"\\n----Predicted----\\n\")\n",
    "        print(\"\\n----{} Results alpha ----\\n\".format(nbdict[i]))\n",
    "        print(metrics.classification_report(y_test, cNB_predict))\n",
    "        accuracy = metrics.accuracy_score(y_test, cNB_predict)\n",
    "        average_accuracy = np.mean(y_test == cNB_predict) * 100\n",
    "        print(\"The average_accuracy is {0:.1f}%\".format(average_accuracy))"
   ]
  },
  {
   "cell_type": "code",
   "execution_count": null,
   "metadata": {},
   "outputs": [],
   "source": [
    "plotPredict(cNB_predict)"
   ]
  },
  {
   "cell_type": "code",
   "execution_count": null,
   "metadata": {
    "scrolled": true
   },
   "outputs": [],
   "source": [
    "print(\"\\n----Categorical NB Results ----\\n\")\n",
    "print(metrics.classification_report(y_test, cNB_predict))\n",
    "accuracy = metrics.accuracy_score(y_test, cNB_predict)\n",
    "average_accuracy = np.mean(y_test == cNB_predict) * 100\n",
    "print(\"The average_accuracy is {0:.1f}%\".format(average_accuracy))"
   ]
  },
  {
   "cell_type": "code",
   "execution_count": 9,
   "metadata": {},
   "outputs": [
    {
     "name": "stdout",
     "output_type": "stream",
     "text": [
      "\n",
      "----Learning SVC RBF bin SVC(C=0.1)----\n",
      "\n",
      "\n",
      "----Learnt----\n",
      "\n",
      "\n",
      "----Predicted----\n",
      "\n",
      "              precision    recall  f1-score   support\n",
      "\n",
      "           0       0.77      0.83      0.80      1000\n",
      "           1       0.99      0.95      0.97      1000\n",
      "           2       0.76      0.74      0.75      1000\n",
      "           3       0.84      0.91      0.88      1000\n",
      "           4       0.74      0.80      0.77      1000\n",
      "           5       0.99      0.91      0.95      1000\n",
      "           6       0.67      0.53      0.59      1000\n",
      "           7       0.88      0.93      0.90      1000\n",
      "           8       0.94      0.96      0.95      1000\n",
      "           9       0.91      0.93      0.92      1000\n",
      "\n",
      "    accuracy                           0.85     10000\n",
      "   macro avg       0.85      0.85      0.85     10000\n",
      "weighted avg       0.85      0.85      0.85     10000\n",
      "\n",
      "The average_accuracy is 84.9%\n",
      "\n",
      "----Learning SVC RBF normSVC(C=0.1)----\n",
      "\n",
      "\n",
      "----Learnt----\n",
      "\n",
      "\n",
      "----Predicted----\n",
      "\n",
      "              precision    recall  f1-score   support\n",
      "\n",
      "           0       0.76      0.84      0.80      1000\n",
      "           1       0.99      0.95      0.97      1000\n",
      "           2       0.80      0.77      0.78      1000\n",
      "           3       0.85      0.91      0.88      1000\n",
      "           4       0.79      0.84      0.81      1000\n",
      "           5       0.93      0.92      0.92      1000\n",
      "           6       0.69      0.56      0.62      1000\n",
      "           7       0.90      0.89      0.89      1000\n",
      "           8       0.95      0.96      0.96      1000\n",
      "           9       0.90      0.94      0.92      1000\n",
      "\n",
      "    accuracy                           0.86     10000\n",
      "   macro avg       0.86      0.86      0.86     10000\n",
      "weighted avg       0.86      0.86      0.86     10000\n",
      "\n",
      "The average_accuracy is 85.7%\n"
     ]
    }
   ],
   "source": [
    "\n",
    "dict= {0:0.5,1:2.75,2:3,3:5,4:10,5:20}\n",
    "for i in range(1):\n",
    "    svc = SVC(C=0.1) #0.5 2.75 3 5,3 5 for normal\n",
    "    print(\"\\n----Learning SVC RBF bin {}----\\n\".format(svc))\n",
    "    svc.fit(train_binary,y_train)\n",
    "    print(\"\\n----Learnt----\\n\")\n",
    "    svc_predict = svc.predict(test_binary)\n",
    "    print(\"\\n----Predicted----\\n\")\n",
    "\n",
    "    print(metrics.classification_report(y_test, svc_predict))\n",
    "    accuracy = metrics.accuracy_score(y_test, svc_predict)\n",
    "    average_accuracy = np.mean(y_test == svc_predict) * 100\n",
    "    print(\"The average_accuracy is {0:.1f}%\".format(average_accuracy))\n",
    "dict2= {0:3,1:5,2:10,3:20}\n",
    "for i in range(1):\n",
    "    svc = SVC(C=0.1) #0.5 2.75 3 5,3 5 for normal\n",
    "    print(\"\\n----Learning SVC RBF norm{}----\\n\".format(svc))\n",
    "    svc.fit(X_train,y_train)\n",
    "    print(\"\\n----Learnt----\\n\")\n",
    "    svc_predict = svc.predict(X_test)\n",
    "    print(\"\\n----Predicted----\\n\")\n",
    "\n",
    "    print(metrics.classification_report(y_test, svc_predict))\n",
    "    accuracy = metrics.accuracy_score(y_test, svc_predict)\n",
    "    average_accuracy = np.mean(y_test == svc_predict) * 100\n",
    "    print(\"The average_accuracy is {0:.1f}%\".format(average_accuracy))\n",
    "    "
   ]
  },
  {
   "cell_type": "code",
   "execution_count": null,
   "metadata": {
    "scrolled": true
   },
   "outputs": [],
   "source": [
    "plotPredict(svc_predict)"
   ]
  },
  {
   "cell_type": "code",
   "execution_count": null,
   "metadata": {},
   "outputs": [],
   "source": [
    "print(\"\\n----SVC (RBF) Results----\\n\")\n",
    "\n",
    "print(metrics.classification_report(y_test, svc_predict))\n",
    "accuracy = metrics.accuracy_score(y_test, svc_predict)\n",
    "average_accuracy = np.mean(y_test == svc_predict) * 100\n",
    "print(\"The average_accuracy is {0:.1f}%\".format(average_accuracy))"
   ]
  },
  {
   "cell_type": "code",
   "execution_count": 10,
   "metadata": {},
   "outputs": [
    {
     "name": "stdout",
     "output_type": "stream",
     "text": [
      "\n",
      "----Learning SVC poly SVC(C=0.1, kernel='poly')----\n",
      "\n",
      "\n",
      "----Learnt----\n",
      "\n",
      "\n",
      "----Predicted----\n",
      "\n",
      "\n",
      "----SVC (Poly) Results----\n",
      "\n",
      "              precision    recall  f1-score   support\n",
      "\n",
      "           0       0.79      0.81      0.80      1000\n",
      "           1       0.99      0.95      0.97      1000\n",
      "           2       0.83      0.70      0.76      1000\n",
      "           3       0.89      0.85      0.87      1000\n",
      "           4       0.85      0.76      0.80      1000\n",
      "           5       0.67      0.94      0.78      1000\n",
      "           6       0.61      0.65      0.63      1000\n",
      "           7       0.90      0.82      0.86      1000\n",
      "           8       0.96      0.92      0.94      1000\n",
      "           9       0.94      0.91      0.93      1000\n",
      "\n",
      "    accuracy                           0.83     10000\n",
      "   macro avg       0.84      0.83      0.83     10000\n",
      "weighted avg       0.84      0.83      0.83     10000\n",
      "\n",
      "The average_accuracy is 83.2%\n"
     ]
    }
   ],
   "source": [
    "for i in range(1):\n",
    "    #i+=\n",
    "    svcPoly = SVC(kernel='poly',C=0.1)\n",
    "    print(\"\\n----Learning SVC poly {}----\\n\".format(svcPoly))\n",
    "    svcPoly.fit(X_train,y_train)\n",
    "    print(\"\\n----Learnt----\\n\")\n",
    "    Poly_predict = svcPoly.predict(X_test)\n",
    "    print(\"\\n----Predicted----\\n\")\n",
    "    print(\"\\n----SVC (Poly) Results----\\n\")\n",
    "\n",
    "    print(metrics.classification_report(y_test, Poly_predict))\n",
    "    accuracy = metrics.accuracy_score(y_test, Poly_predict)\n",
    "    average_accuracy = np.mean(y_test == Poly_predict) * 100\n",
    "    print(\"The average_accuracy is {0:.1f}%\".format(average_accuracy))"
   ]
  },
  {
   "cell_type": "code",
   "execution_count": null,
   "metadata": {},
   "outputs": [],
   "source": [
    "print(\"\\n----SVC (Poly) Results----\\n\")\n",
    "\n",
    "print(metrics.classification_report(y_test, Poly_predict))\n",
    "accuracy = metrics.accuracy_score(y_test, Poly_predict)\n",
    "average_accuracy = np.mean(y_test == Poly_predict) * 100\n",
    "print(\"The average_accuracy is {0:.1f}%\".format(average_accuracy))"
   ]
  },
  {
   "cell_type": "code",
   "execution_count": null,
   "metadata": {},
   "outputs": [],
   "source": []
  }
 ],
 "metadata": {
  "kernelspec": {
   "display_name": "Python 3",
   "language": "python",
   "name": "python3"
  },
  "language_info": {
   "codemirror_mode": {
    "name": "ipython",
    "version": 3
   },
   "file_extension": ".py",
   "mimetype": "text/x-python",
   "name": "python",
   "nbconvert_exporter": "python",
   "pygments_lexer": "ipython3",
   "version": "3.8.6"
  }
 },
 "nbformat": 4,
 "nbformat_minor": 4
}
